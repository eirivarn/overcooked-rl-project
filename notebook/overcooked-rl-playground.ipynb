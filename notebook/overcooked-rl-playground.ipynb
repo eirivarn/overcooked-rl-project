{
 "cells": [
  {
   "cell_type": "markdown",
   "id": "1ee01f63",
   "metadata": {},
   "source": [
    "# Exploring the Overcooked MDP and Environment\n",
    "\n",
    "_In this notebook we will:_\n",
    "1. Load and inspect the Overcooked MDP.  \n",
    "2. Wrap it in the RL-friendly `OvercookedEnv`.  \n",
    "3. Discover how to extract the underlying grid layout.  \n",
    "4. Visualize states with the provided `StateVisualizer`.  \n",
    "5. Step through a couple of actions and render the results.  \n",
    "\n",
    "---"
   ]
  },
  {
   "cell_type": "code",
   "execution_count": 17,
   "id": "9854d04a",
   "metadata": {},
   "outputs": [],
   "source": [
    "# Cell 1: Imports\n",
    "import copy\n",
    "import math\n",
    "import os\n",
    "\n",
    "# Core MDP, actions, planners\n",
    "from overcooked_ai_py.mdp.overcooked_mdp import OvercookedGridworld\n",
    "from overcooked_ai_py.mdp.actions import Action\n",
    "from overcooked_ai_py.planning.planners import MediumLevelActionManager, NO_COUNTERS_PARAMS\n",
    "\n",
    "# RL wrapper\n",
    "from overcooked_ai_py.mdp.overcooked_env import OvercookedEnv\n",
    "\n",
    "# Visualization\n",
    "from overcooked_ai_py.visualization.state_visualizer import StateVisualizer"
   ]
  },
  {
   "cell_type": "markdown",
   "id": "36a92ce5",
   "metadata": {},
   "source": [
    "---\n",
    "\n",
    "## 2. Instantiate the MDP and Environment\n",
    "\n",
    "We’ll pick the “asymmetric_advantages” layout and a horizon of 400 timesteps.\n"
   ]
  },
  {
   "cell_type": "code",
   "execution_count": 18,
   "id": "3067a275",
   "metadata": {},
   "outputs": [],
   "source": [
    "# Cell 2: Build MDP & Env\n",
    "mdp = OvercookedGridworld.from_layout_name(\"asymmetric_advantages\")\n",
    "env = OvercookedEnv.from_mdp(mdp, horizon=400)\n",
    "\n",
    "# Standard start state\n",
    "state0 = mdp.get_standard_start_state()"
   ]
  },
  {
   "cell_type": "markdown",
   "id": "4105f7ae",
   "metadata": {},
   "source": [
    "---\n",
    "\n",
    "## 3. Visualize the Initial State\n",
    "\n",
    "`StateVisualizer` needs the raw layout grid.  Unfortunately the MDP doesn’t expose it as `.terrain`, but either as `.terrain_mtx` or `.grid`.  We can fall back gracefully.\n"
   ]
  },
  {
   "cell_type": "code",
   "execution_count": 20,
   "id": "a25d19c8",
   "metadata": {},
   "outputs": [
    {
     "name": "stdout",
     "output_type": "stream",
     "text": [
      "Grid size: 5×9\n"
     ]
    },
    {
     "data": {
      "text/plain": [
       "[['X', 'X', 'X', 'X', 'X', 'X', 'X', 'X', 'X'],\n",
       " ['O', ' ', 'X', 'S', 'X', 'O', 'X', ' ', 'S'],\n",
       " ['X', ' ', ' ', ' ', 'P', ' ', ' ', ' ', 'X'],\n",
       " ['X', ' ', ' ', ' ', 'P', ' ', ' ', ' ', 'X'],\n",
       " ['X', 'X', 'X', 'D', 'X', 'D', 'X', 'X', 'X']]"
      ]
     },
     "execution_count": 20,
     "metadata": {},
     "output_type": "execute_result"
    }
   ],
   "source": [
    "# Cell 3: Extract the layout grid\n",
    "try:\n",
    "    grid = mdp.terrain_mtx\n",
    "except AttributeError:\n",
    "    grid = mdp.grid\n",
    "\n",
    "print(f\"Grid size: {len(grid)}×{len(grid[0])}\")\n",
    "grid  # display the 2D list of chars\n"
   ]
  },
  {
   "cell_type": "code",
   "execution_count": 21,
   "id": "244be312",
   "metadata": {},
   "outputs": [
    {
     "data": {
      "image/png": "[encoded data removed]",
      "text/plain": [
       "<IPython.core.display.Image object>"
      ]
     },
     "metadata": {},
     "output_type": "display_data"
    },
    {
     "data": {
      "text/plain": [
       "'/var/folders/x9/scyyg02s20v0759sw_qxdlqc0000gn/T/overcooked_visualized_state_4babe114-21c8-11f0-b0fc-665cc768392c.png'"
      ]
     },
     "execution_count": 21,
     "metadata": {},
     "output_type": "execute_result"
    }
   ],
   "source": [
    "# Cell 4: Render initial state inline\n",
    "viz = StateVisualizer(tile_size=60, is_rendering_action_probs=False)\n",
    "viz.display_rendered_state(state0, grid=grid, ipython_display=True)"
   ]
  },
  {
   "cell_type": "markdown",
   "id": "8c342c5a",
   "metadata": {},
   "source": [
    "---\n",
    "\n",
    "## 4. Single‐Step Transition\n",
    "\n",
    "Let’s apply both agents choosing `INTERACT` at t=0, then visualize the result.\n"
   ]
  },
  {
   "cell_type": "code",
   "execution_count": 22,
   "id": "01056f14",
   "metadata": {},
   "outputs": [
    {
     "name": "stdout",
     "output_type": "stream",
     "text": [
      "Logged events: {'tomato_pickup': [False, False], 'useful_tomato_pickup': [False, False], 'tomato_drop': [False, False], 'useful_tomato_drop': [False, False], 'potting_tomato': [False, False], 'onion_pickup': [False, False], 'useful_onion_pickup': [False, False], 'onion_drop': [False, False], 'useful_onion_drop': [False, False], 'potting_onion': [False, False], 'dish_pickup': [False, False], 'useful_dish_pickup': [False, False], 'dish_drop': [False, False], 'useful_dish_drop': [False, False], 'soup_pickup': [False, False], 'soup_delivery': [False, False], 'soup_drop': [False, False], 'optimal_onion_potting': [False, False], 'optimal_tomato_potting': [False, False], 'viable_onion_potting': [False, False], 'viable_tomato_potting': [False, False], 'catastrophic_onion_potting': [False, False], 'catastrophic_tomato_potting': [False, False], 'useless_onion_potting': [False, False], 'useless_tomato_potting': [False, False]}\n"
     ]
    },
    {
     "data": {
      "image/png": "[encoded data removed]",
      "text/plain": [
       "<IPython.core.display.Image object>"
      ]
     },
     "metadata": {},
     "output_type": "display_data"
    },
    {
     "data": {
      "text/plain": [
       "'/var/folders/x9/scyyg02s20v0759sw_qxdlqc0000gn/T/overcooked_visualized_state_5affef5c-21c8-11f0-b0fc-665cc768392c.png'"
      ]
     },
     "execution_count": 22,
     "metadata": {},
     "output_type": "execute_result"
    }
   ],
   "source": [
    "# Cell 5: Step the MDP directly\n",
    "joint_action = (Action.INTERACT, Action.INTERACT)\n",
    "next_state, info = mdp.get_state_transition(state0, joint_action)\n",
    "print(\"Logged events:\", info['event_infos'])\n",
    "\n",
    "# Visualize\n",
    "viz.display_rendered_state(next_state, grid=grid, ipython_display=True)"
   ]
  },
  {
   "cell_type": "markdown",
   "id": "40dbd313",
   "metadata": {},
   "source": [
    "---\n",
    "\n",
    "## 5. Featurizations\n",
    "\n",
    "### 5.1 Lossless Mask Encoding\n",
    "\n",
    "A stack of boolean masks, one channel per terrain/agent/object layer.\n"
   ]
  },
  {
   "cell_type": "code",
   "execution_count": 23,
   "id": "40287582",
   "metadata": {},
   "outputs": [
    {
     "name": "stdout",
     "output_type": "stream",
     "text": [
      "Mask shape per player: (9, 5, 26)\n"
     ]
    }
   ],
   "source": [
    "# Cell 6: Lossless encoding\n",
    "mask_p0, mask_p1 = mdp.lossless_state_encoding(state0)\n",
    "print(\"Mask shape per player:\", mask_p0.shape)\n"
   ]
  },
  {
   "cell_type": "markdown",
   "id": "518fc60e",
   "metadata": {},
   "source": [
    "### 5.2 Hand-Crafted Feature Vector\n",
    "\n",
    "Distances, counts, relative positions, etc., for CNN-free RL agents.\n"
   ]
  },
  {
   "cell_type": "code",
   "execution_count": 24,
   "id": "e0e618ff",
   "metadata": {},
   "outputs": [
    {
     "name": "stdout",
     "output_type": "stream",
     "text": [
      "Feature vector length per player: 96\n"
     ]
    }
   ],
   "source": [
    "# Cell 7: Hand-crafted encoding (requires planner)\n",
    "mlam = MediumLevelActionManager.from_pickle_or_compute(mdp, NO_COUNTERS_PARAMS)\n",
    "features = mdp.featurize_state(state0, mlam, num_pots=2)\n",
    "print(\"Feature vector length per player:\", features[0].shape[0])\n"
   ]
  },
  {
   "cell_type": "markdown",
   "id": "6299b1e0",
   "metadata": {},
   "source": [
    "---\n",
    "\n",
    "## 6. Potential Function for Reward Shaping\n",
    "\n",
    "A heuristic estimate of future return under greedy planning.\n"
   ]
  },
  {
   "cell_type": "code",
   "execution_count": 25,
   "id": "3d0b2842",
   "metadata": {},
   "outputs": [
    {
     "name": "stdout",
     "output_type": "stream",
     "text": [
      "State potential: 30.633689117862914\n"
     ]
    }
   ],
   "source": [
    "# Cell 8: Compute potential\n",
    "phi = mdp.potential_function(state0, mlam.motion_planner, gamma=0.99)\n",
    "print(\"State potential:\", phi)\n"
   ]
  },
  {
   "cell_type": "markdown",
   "id": "8b76c1f7",
   "metadata": {},
   "source": [
    "---\n",
    "\n",
    "## 7. Rolling Out a Trajectory\n",
    "\n",
    "We can use `OvercookedEnv.get_rollouts` to simulate a pair of random agents and visualize.\n"
   ]
  },
  {
   "cell_type": "code",
   "execution_count": 26,
   "id": "d7550e13",
   "metadata": {},
   "outputs": [
    {
     "name": "stderr",
     "output_type": "stream",
     "text": [
      "Avg rew: 0.00 (std: 0.00, se: 0.00); avg len: 400.00; : 100%|██████████| 1/1 [00:00<00:00, 15.64it/s]\n"
     ]
    },
    {
     "name": "stdout",
     "output_type": "stream",
     "text": [
      "Computing MotionPlanner\n",
      "Computing MotionPlanner to be saved in /Users/eirikvarnes/code/overcooked-rl-project/overcooked_ai/src/overcooked_ai_py/data/planners/asymmetric_advantages_mp.pkl\n",
      "It took 0.03780508041381836 seconds to create mp\n"
     ]
    },
    {
     "data": {
      "application/vnd.jupyter.widget-view+json": {
       "model_id": "c9c77e6b56884cdcac93d7ff241ff671",
       "version_major": 2,
       "version_minor": 0
      },
      "text/plain": [
       "interactive(children=(IntSlider(value=0, description='timestep', max=399), Output()), _dom_classes=('widget-in…"
      ]
     },
     "metadata": {},
     "output_type": "display_data"
    }
   ],
   "source": [
    "# Cell 9: Generate and visualize one rollout\n",
    "from overcooked_ai_py.agents.agent import AgentPair, RandomAgent\n",
    "\n",
    "agent_pair = AgentPair(RandomAgent(all_actions=True), RandomAgent(all_actions=True))\n",
    "traj = env.get_rollouts(agent_pair, num_games=1, display=False, info=True)\n",
    "\n",
    "# Render trajectory inline\n",
    "viz.display_rendered_trajectory(traj, trajectory_idx=0, ipython_display=True)\n"
   ]
  },
  {
   "cell_type": "markdown",
   "id": "b91c2755",
   "metadata": {},
   "source": [
    "---\n",
    "\n",
    "## Summary\n",
    "\n",
    "In this notebook we have:\n",
    "\n",
    "- **Built** the core `OvercookedGridworld` MDP  \n",
    "- **Wrapped** it in `OvercookedEnv` for standard `reset/step` RL usage  \n",
    "- **Visualized** raw states and transitions with `StateVisualizer`  \n",
    "- **Extracted** both mask stacks and hand-crafted feature vectors  \n",
    "- **Computed** a potential shaping function  \n",
    "- **Simulated** complete rollouts  \n",
    "\n",
    "You can now hook in your favorite RL algorithm—using the featurizations or raw mask inputs—to train agents to collaborate in Overcooked.\n"
   ]
  }
 ],
 "metadata": {
  "kernelspec": {
   "display_name": "overcooked",
   "language": "python",
   "name": "python3"
  },
  "language_info": {
   "codemirror_mode": {
    "name": "ipython",
    "version": 3
   },
   "file_extension": ".py",
   "mimetype": "text/x-python",
   "name": "python",
   "nbconvert_exporter": "python",
   "pygments_lexer": "ipython3",
   "version": "3.10.13"
  }
 },
 "nbformat": 4,
 "nbformat_minor": 5
}
